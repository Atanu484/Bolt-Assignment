{
    "metadata": {
        "kernelspec": {
            "name": "SQL",
            "display_name": "SQL",
            "language": "sql"
        },
        "language_info": {
            "name": "sql",
            "version": ""
        }
    },
    "nbformat_minor": 2,
    "nbformat": 4,
    "cells": [
        {
            "cell_type": "code",
            "source": [
                "SELECT\n",
                "  -- Calculate total gross sales by summing up Total_with_VAT\n",
                "  SUM(CAST(Total_with_VAT AS DECIMAL(10, 2))) AS Gross_Sales,\n",
                "  \n",
                "  -- Calculate total net sales by summing up Total_without_VAT\n",
                "  SUM(CAST(Total_without_VAT AS DECIMAL(10, 2))) AS Net_Sales,\n",
                "  \n",
                "  -- Calculate the total taxes payable by subtracting total net sales and Bolt service fees from total gross sales\n",
                "  SUM(CAST(Total_with_VAT AS DECIMAL(10, 2))) - SUM(CAST(Total_without_VAT AS DECIMAL(10, 2))) - SUM(CAST(Bolt_Service_Fee AS DECIMAL(10, 2))) AS Taxes_Payable,\n",
                "  \n",
                "  -- Calculate total expenses by summing up Bolt service fees\n",
                "  SUM(CAST(Bolt_Service_Fee AS DECIMAL(10, 2))) AS Expenses,\n",
                "  \n",
                "  -- Calculate net earnings by subtracting total expenses from total net sales\n",
                "  SUM(CAST(Total_without_VAT AS DECIMAL(10, 2))) - SUM(CAST(Bolt_Service_Fee AS DECIMAL(10, 2))) AS Net_Earnings,\n",
                "  \n",
                "  -- Calculate the average unit price with VAT by dividing the sum of Unit_Price_with_VAT by the count of Unit_Price_with_VAT\n",
                "  SUM(CAST(Unit_Price_with_VAT AS DECIMAL(10, 2))) / CAST(COUNT(Unit_Price_with_VAT) AS DECIMAL(10, 2)) AS Average_Unit_Price_With_VAT,\n",
                "  \n",
                "  -- Calculate the average unit price without VAT by dividing the sum of Unit_Price_without_VAT by the count of Unit_Price_without_VAT\n",
                "  SUM(CAST(Unit_Price_without_VAT AS DECIMAL(10, 2))) / CAST(COUNT(Unit_Price_Without_VAT) AS DECIMAL(10, 2)) AS Average_Unit_Price_Without_VAT,\n",
                "  \n",
                "  -- Calculate the average number of items per order by taking the average of Quantity\n",
                "  AVG(CAST(Quantity AS DECIMAL(10, 2))) AS Average_Items_Per_Order,\n",
                "  \n",
                "  -- Calculate the average order value by taking the average of Total_with_VAT\n",
                "  AVG(CAST(Total_with_VAT AS DECIMAL(10, 2))) AS Average_Order_Value,\n",
                "  \n",
                "  -- Calculate net earnings per order by dividing the net earnings by the count of unique Order_IDs\n",
                "  (SUM(CAST(Total_without_VAT AS DECIMAL(10, 2))) - SUM(CAST(Bolt_Service_Fee AS DECIMAL(10, 2)))) / COUNT(DISTINCT Order_ID) AS Net_Earnings_Per_Order,\n",
                "  \n",
                "  -- Calculate Bolt fees per order by summing up Bolt service fees and dividing by the count of unique Order_IDs\n",
                "  SUM(CAST(Bolt_Service_Fee AS DECIMAL(10, 2))) / COUNT(DISTINCT Order_ID) AS Bolt_Fees_Per_Order\n",
                "  \n",
                "FROM [master].[dbo].[New Commerce Specialist Task - Draft - Task 1 - Database];\n",
                "\n",
                "\n",
                "\n",
                ""
            ],
            "metadata": {
                "azdata_cell_guid": "a050c8c7-ef61-4d91-aeeb-96c9f830ac95",
                "language": "sql"
            },
            "outputs": [
                {
                    "output_type": "display_data",
                    "data": {
                        "text/html": "(1 row affected)"
                    },
                    "metadata": {}
                },
                {
                    "output_type": "display_data",
                    "data": {
                        "text/html": "Total execution time: 00:00:00.071"
                    },
                    "metadata": {}
                },
                {
                    "output_type": "execute_result",
                    "metadata": {},
                    "execution_count": 14,
                    "data": {
                        "application/vnd.dataresource+json": {
                            "schema": {
                                "fields": [
                                    {
                                        "name": "Gross_Sales"
                                    },
                                    {
                                        "name": "Net_Sales"
                                    },
                                    {
                                        "name": "Taxes_Payable"
                                    },
                                    {
                                        "name": "Expenses"
                                    },
                                    {
                                        "name": "Net_Earnings"
                                    },
                                    {
                                        "name": "Average_Unit_Price_With_VAT"
                                    },
                                    {
                                        "name": "Average_Unit_Price_Without_VAT"
                                    },
                                    {
                                        "name": "Average_Items_Per_Order"
                                    },
                                    {
                                        "name": "Average_Order_Value"
                                    },
                                    {
                                        "name": "Net_Earnings_Per_Order"
                                    },
                                    {
                                        "name": "Bolt_Fees_Per_Order"
                                    }
                                ]
                            },
                            "data": [
                                {
                                    "0": "77173.43",
                                    "1": "64442.87",
                                    "2": "6620.15",
                                    "3": "6110.41",
                                    "4": "58332.46",
                                    "5": "6.979028",
                                    "6": "5.820850",
                                    "7": "2.602964",
                                    "8": "30.098841",
                                    "9": "54.011537",
                                    "10": "5.657787"
                                }
                            ]
                        },
                        "text/html": [
                            "<table>",
                            "<tr><th>Gross_Sales</th><th>Net_Sales</th><th>Taxes_Payable</th><th>Expenses</th><th>Net_Earnings</th><th>Average_Unit_Price_With_VAT</th><th>Average_Unit_Price_Without_VAT</th><th>Average_Items_Per_Order</th><th>Average_Order_Value</th><th>Net_Earnings_Per_Order</th><th>Bolt_Fees_Per_Order</th></tr>",
                            "<tr><td>77173.43</td><td>64442.87</td><td>6620.15</td><td>6110.41</td><td>58332.46</td><td>6.979028</td><td>5.820850</td><td>2.602964</td><td>30.098841</td><td>54.011537</td><td>5.657787</td></tr>",
                            "</table>"
                        ]
                    }
                }
            ],
            "execution_count": 14
        }
    ]
}